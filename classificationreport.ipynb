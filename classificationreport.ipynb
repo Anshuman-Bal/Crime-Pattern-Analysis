{
 "cells": [
  {
   "cell_type": "code",
   "execution_count": 2,
   "id": "72670129-5dcc-42a6-8ed9-8a951875bae1",
   "metadata": {},
   "outputs": [
    {
     "name": "stdout",
     "output_type": "stream",
     "text": [
      "Classification Report:\n",
      "               precision    recall  f1-score   support\n",
      "\n",
      "           0       1.00      0.99      1.00      1155\n",
      "           1       0.99      0.99      0.99       565\n",
      "\n",
      "    accuracy                           0.99      1720\n",
      "   macro avg       0.99      0.99      0.99      1720\n",
      "weighted avg       0.99      0.99      0.99      1720\n",
      "\n"
     ]
    }
   ],
   "source": [
    "import numpy as np\n",
    "import pandas as pd\n",
    "from sklearn.model_selection import train_test_split\n",
    "from sklearn.neighbors import KNeighborsClassifier\n",
    "from sklearn.metrics import classification_report\n",
    "from sklearn.metrics import accuracy_score\n",
    "\n",
    "# Load CSV data\n",
    "def load_data(file_path):\n",
    "    df = pd.read_csv(file_path)\n",
    "    X = df.drop(columns=['risk', 'state_ut', 'district']).values\n",
    "    y = df['risk'].values\n",
    "    return X, y\n",
    "\n",
    "# Split data into train and test sets\n",
    "def split_data(X, y, test_size=0.2, random_state=42):\n",
    "    X_train, X_test, y_train, y_test = train_test_split(X, y, test_size=test_size, random_state=random_state)\n",
    "    return X_train, X_test, y_train, y_test\n",
    "\n",
    "# Train and evaluate kNN classifier\n",
    "def train_and_evaluate(X_train, X_test, y_train, y_test, k=5):\n",
    "    # Initialize kNN classifier\n",
    "    clf = KNeighborsClassifier(n_neighbors=k)\n",
    "    # Train the classifier\n",
    "    clf.fit(X_train, y_train)\n",
    "    # Predict labels for test data\n",
    "    y_pred = clf.predict(X_test)\n",
    "    # Compute classification report\n",
    "    report = classification_report(y_test, y_pred)\n",
    "    return report\n",
    "\n",
    "# Main function\n",
    "def main():\n",
    "    # Path to the CSV file\n",
    "    csv_file_path = \"crime.csv\"\n",
    "\n",
    "    # Load data\n",
    "    X, y = load_data(csv_file_path)\n",
    "\n",
    "    # Split data into train and test sets\n",
    "    X_train, X_test, y_train, y_test = split_data(X, y)\n",
    "\n",
    "    # Train and evaluate kNN classifier\n",
    "    report = train_and_evaluate(X_train, X_test, y_train, y_test)\n",
    "    print(\"Classification Report:\\n\", report)\n",
    "\n",
    "# Run main function\n",
    "if __name__ == \"__main__\":\n",
    "    main()"
   ]
  },
  {
   "cell_type": "code",
   "execution_count": null,
   "id": "f794d722-31a0-4ec7-86a4-befe55477240",
   "metadata": {},
   "outputs": [],
   "source": []
  }
 ],
 "metadata": {
  "kernelspec": {
   "display_name": "Python 3 (ipykernel)",
   "language": "python",
   "name": "python3"
  },
  "language_info": {
   "codemirror_mode": {
    "name": "ipython",
    "version": 3
   },
   "file_extension": ".py",
   "mimetype": "text/x-python",
   "name": "python",
   "nbconvert_exporter": "python",
   "pygments_lexer": "ipython3",
   "version": "3.9.5"
  }
 },
 "nbformat": 4,
 "nbformat_minor": 5
}
