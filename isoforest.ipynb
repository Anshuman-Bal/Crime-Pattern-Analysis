{
 "cells": [
  {
   "cell_type": "code",
   "execution_count": 1,
   "id": "0bba5ab0-e24a-49cb-8018-9c9d32a412e1",
   "metadata": {},
   "outputs": [
    {
     "name": "stderr",
     "output_type": "stream",
     "text": [
      "c:\\users\\hp\\appdata\\local\\programs\\python\\python39\\lib\\site-packages\\scipy\\__init__.py:155: UserWarning: A NumPy version >=1.18.5 and <1.25.0 is required for this version of SciPy (detected version 1.26.4\n",
      "  warnings.warn(f\"A NumPy version >={np_minversion} and <{np_maxversion}\"\n"
     ]
    }
   ],
   "source": [
    "import pandas as pd\n",
    "from sklearn.ensemble import IsolationForest"
   ]
  },
  {
   "cell_type": "code",
   "execution_count": 3,
   "id": "be8d5347-0ecc-42df-9f0b-989cdcca0808",
   "metadata": {},
   "outputs": [],
   "source": [
    "# Load your dataset\n",
    "data = pd.read_csv(\"crime.csv\")"
   ]
  },
  {
   "cell_type": "code",
   "execution_count": 4,
   "id": "5dca0c62-71d3-4a58-ae39-15027601c5a0",
   "metadata": {},
   "outputs": [],
   "source": [
    "# Select numeric columns for simplicity\n",
    "X = data.select_dtypes(include=\"number\")"
   ]
  },
  {
   "cell_type": "code",
   "execution_count": 5,
   "id": "ed26171e-03a7-4403-8090-6d72d5070c3c",
   "metadata": {},
   "outputs": [
    {
     "name": "stderr",
     "output_type": "stream",
     "text": [
      "c:\\users\\hp\\appdata\\local\\programs\\python\\python39\\lib\\site-packages\\sklearn\\base.py:450: UserWarning: X does not have valid feature names, but IsolationForest was fitted with feature names\n",
      "  warnings.warn(\n"
     ]
    },
    {
     "data": {
      "text/html": [
       "<style>#sk-container-id-1 {color: black;background-color: white;}#sk-container-id-1 pre{padding: 0;}#sk-container-id-1 div.sk-toggleable {background-color: white;}#sk-container-id-1 label.sk-toggleable__label {cursor: pointer;display: block;width: 100%;margin-bottom: 0;padding: 0.3em;box-sizing: border-box;text-align: center;}#sk-container-id-1 label.sk-toggleable__label-arrow:before {content: \"▸\";float: left;margin-right: 0.25em;color: #696969;}#sk-container-id-1 label.sk-toggleable__label-arrow:hover:before {color: black;}#sk-container-id-1 div.sk-estimator:hover label.sk-toggleable__label-arrow:before {color: black;}#sk-container-id-1 div.sk-toggleable__content {max-height: 0;max-width: 0;overflow: hidden;text-align: left;background-color: #f0f8ff;}#sk-container-id-1 div.sk-toggleable__content pre {margin: 0.2em;color: black;border-radius: 0.25em;background-color: #f0f8ff;}#sk-container-id-1 input.sk-toggleable__control:checked~div.sk-toggleable__content {max-height: 200px;max-width: 100%;overflow: auto;}#sk-container-id-1 input.sk-toggleable__control:checked~label.sk-toggleable__label-arrow:before {content: \"▾\";}#sk-container-id-1 div.sk-estimator input.sk-toggleable__control:checked~label.sk-toggleable__label {background-color: #d4ebff;}#sk-container-id-1 div.sk-label input.sk-toggleable__control:checked~label.sk-toggleable__label {background-color: #d4ebff;}#sk-container-id-1 input.sk-hidden--visually {border: 0;clip: rect(1px 1px 1px 1px);clip: rect(1px, 1px, 1px, 1px);height: 1px;margin: -1px;overflow: hidden;padding: 0;position: absolute;width: 1px;}#sk-container-id-1 div.sk-estimator {font-family: monospace;background-color: #f0f8ff;border: 1px dotted black;border-radius: 0.25em;box-sizing: border-box;margin-bottom: 0.5em;}#sk-container-id-1 div.sk-estimator:hover {background-color: #d4ebff;}#sk-container-id-1 div.sk-parallel-item::after {content: \"\";width: 100%;border-bottom: 1px solid gray;flex-grow: 1;}#sk-container-id-1 div.sk-label:hover label.sk-toggleable__label {background-color: #d4ebff;}#sk-container-id-1 div.sk-serial::before {content: \"\";position: absolute;border-left: 1px solid gray;box-sizing: border-box;top: 0;bottom: 0;left: 50%;z-index: 0;}#sk-container-id-1 div.sk-serial {display: flex;flex-direction: column;align-items: center;background-color: white;padding-right: 0.2em;padding-left: 0.2em;position: relative;}#sk-container-id-1 div.sk-item {position: relative;z-index: 1;}#sk-container-id-1 div.sk-parallel {display: flex;align-items: stretch;justify-content: center;background-color: white;position: relative;}#sk-container-id-1 div.sk-item::before, #sk-container-id-1 div.sk-parallel-item::before {content: \"\";position: absolute;border-left: 1px solid gray;box-sizing: border-box;top: 0;bottom: 0;left: 50%;z-index: -1;}#sk-container-id-1 div.sk-parallel-item {display: flex;flex-direction: column;z-index: 1;position: relative;background-color: white;}#sk-container-id-1 div.sk-parallel-item:first-child::after {align-self: flex-end;width: 50%;}#sk-container-id-1 div.sk-parallel-item:last-child::after {align-self: flex-start;width: 50%;}#sk-container-id-1 div.sk-parallel-item:only-child::after {width: 0;}#sk-container-id-1 div.sk-dashed-wrapped {border: 1px dashed gray;margin: 0 0.4em 0.5em 0.4em;box-sizing: border-box;padding-bottom: 0.4em;background-color: white;}#sk-container-id-1 div.sk-label label {font-family: monospace;font-weight: bold;display: inline-block;line-height: 1.2em;}#sk-container-id-1 div.sk-label-container {text-align: center;}#sk-container-id-1 div.sk-container {/* jupyter's `normalize.less` sets `[hidden] { display: none; }` but bootstrap.min.css set `[hidden] { display: none !important; }` so we also need the `!important` here to be able to override the default hidden behavior on the sphinx rendered scikit-learn.org. See: https://github.com/scikit-learn/scikit-learn/issues/21755 */display: inline-block !important;position: relative;}#sk-container-id-1 div.sk-text-repr-fallback {display: none;}</style><div id=\"sk-container-id-1\" class=\"sk-top-container\"><div class=\"sk-text-repr-fallback\"><pre>IsolationForest(contamination=0.05)</pre><b>In a Jupyter environment, please rerun this cell to show the HTML representation or trust the notebook. <br />On GitHub, the HTML representation is unable to render, please try loading this page with nbviewer.org.</b></div><div class=\"sk-container\" hidden><div class=\"sk-item\"><div class=\"sk-estimator sk-toggleable\"><input class=\"sk-toggleable__control sk-hidden--visually\" id=\"sk-estimator-id-1\" type=\"checkbox\" checked><label for=\"sk-estimator-id-1\" class=\"sk-toggleable__label sk-toggleable__label-arrow\">IsolationForest</label><div class=\"sk-toggleable__content\"><pre>IsolationForest(contamination=0.05)</pre></div></div></div></div></div>"
      ],
      "text/plain": [
       "IsolationForest(contamination=0.05)"
      ]
     },
     "execution_count": 5,
     "metadata": {},
     "output_type": "execute_result"
    }
   ],
   "source": [
    "# Train the Isolation Forest model\n",
    "isolation_forest = IsolationForest(contamination=0.05)  # Adjust contamination based on your dataset\n",
    "isolation_forest.fit(X)"
   ]
  },
  {
   "cell_type": "code",
   "execution_count": 6,
   "id": "18645a4f-10d9-4ad6-8fd4-06cb8a1b7083",
   "metadata": {},
   "outputs": [],
   "source": [
    "# Predict outliers\n",
    "predictions = isolation_forest.predict(X)\n",
    "\n",
    "# Identify outliers\n",
    "outliers = data[predictions == -1]"
   ]
  },
  {
   "cell_type": "code",
   "execution_count": 7,
   "id": "b997fb7e-dffa-4e56-a5c4-f3b85bf26965",
   "metadata": {},
   "outputs": [
    {
     "name": "stdout",
     "output_type": "stream",
     "text": [
      "Identified Outliers:\n",
      "            state_ut        district  year  murder  attempt_to_murder  \\\n",
      "7     ANDHRA PRADESH  HYDERABAD CITY  2001     111                113   \n",
      "18    ANDHRA PRADESH     RANGA REDDY  2001     214                 95   \n",
      "21    ANDHRA PRADESH      VIJAYAWADA  2001      53                 44   \n",
      "94             BIHAR     MUZAFFARPUR  2001     153                162   \n",
      "96             BIHAR         NALANDA  2001     208                249   \n",
      "...              ...             ...   ...     ...                ...   \n",
      "8569     WEST BENGAL  UTTAR DINAJPUR  2012     110                283   \n",
      "8580        DELHI UT            EAST  2012      48                 53   \n",
      "8586        DELHI UT      NORTH-EAST  2012      49                 65   \n",
      "8590        DELHI UT      SOUTH-EAST  2012      46                 69   \n",
      "8593        DELHI UT            WEST  2012      52                 37   \n",
      "\n",
      "      culpable_homicide_not_amounting_to_murder  rape  custodial_rape  \\\n",
      "7                                             7    37               0   \n",
      "18                                           16    72               0   \n",
      "21                                            5    25               0   \n",
      "94                                           21    73               0   \n",
      "96                                           18    40               0   \n",
      "...                                         ...   ...             ...   \n",
      "8569                                         10    92               0   \n",
      "8580                                          9    90               0   \n",
      "8586                                         11    78               0   \n",
      "8590                                          6   116               0   \n",
      "8593                                         10    79               0   \n",
      "\n",
      "      other_rape  kidnapping_abduction  ...  hurt_grevious_hurt  dowry_deaths  \\\n",
      "7             37                    80  ...                3137            24   \n",
      "18            72                   106  ...                2829            37   \n",
      "21            25                    70  ...                1578             2   \n",
      "94            73                   113  ...                 103            69   \n",
      "96            40                   126  ...                 611            47   \n",
      "...          ...                   ...  ...                 ...           ...   \n",
      "8569          92                   306  ...                1105             9   \n",
      "8580          90                   503  ...                 161             7   \n",
      "8586          78                   510  ...                 242            25   \n",
      "8590         116                   538  ...                 252            11   \n",
      "8593          79                   454  ...                 227            18   \n",
      "\n",
      "      assault_on_women_with_intent_to_outrage_her_modesty  \\\n",
      "7                                                   118     \n",
      "18                                                  113     \n",
      "21                                                   84     \n",
      "94                                                   81     \n",
      "96                                                   14     \n",
      "...                                                 ...     \n",
      "8569                                                150     \n",
      "8580                                                 96     \n",
      "8586                                                 69     \n",
      "8590                                                160     \n",
      "8593                                                 53     \n",
      "\n",
      "      insult_to_modesty_of_women  cruelty_by_husband_or_his_relatives  \\\n",
      "7                             27                                  746   \n",
      "18                            55                                  421   \n",
      "21                           122                                  520   \n",
      "94                             0                                  141   \n",
      "96                             2                                   54   \n",
      "...                          ...                                  ...   \n",
      "8569                           5                                  623   \n",
      "8580                          26                                  202   \n",
      "8586                           9                                  293   \n",
      "8590                          43                                  123   \n",
      "8593                           6                                  327   \n",
      "\n",
      "      importation_of_girls_from_foreign_countries  \\\n",
      "7                                               0   \n",
      "18                                              7   \n",
      "21                                              0   \n",
      "94                                              6   \n",
      "96                                              0   \n",
      "...                                           ...   \n",
      "8569                                            0   \n",
      "8580                                            0   \n",
      "8586                                            0   \n",
      "8590                                            0   \n",
      "8593                                            0   \n",
      "\n",
      "      causing_death_by_negligence  other_ipc_crimes  total_ipc_crimes  risk  \n",
      "7                             409              1512             11831     1  \n",
      "18                            593              2103              9867     1  \n",
      "21                            234               724              6733     1  \n",
      "94                            141              1867              4212     1  \n",
      "96                             60              1006              3479     1  \n",
      "...                           ...               ...               ...   ...  \n",
      "8569                            3              1839              5212     1  \n",
      "8580                           35              2426              7423     1  \n",
      "8586                          145              1512              5903     1  \n",
      "8590                          218              2004              7040     1  \n",
      "8593                          292              1144              5558     1  \n",
      "\n",
      "[430 rows x 34 columns]\n"
     ]
    }
   ],
   "source": [
    "# Display identified outliers\n",
    "print(\"Identified Outliers:\")\n",
    "print(outliers)"
   ]
  },
  {
   "cell_type": "code",
   "execution_count": null,
   "id": "a72b67a1-74f5-4c7e-8e73-c27759ca480b",
   "metadata": {},
   "outputs": [],
   "source": []
  }
 ],
 "metadata": {
  "kernelspec": {
   "display_name": "Python 3 (ipykernel)",
   "language": "python",
   "name": "python3"
  },
  "language_info": {
   "codemirror_mode": {
    "name": "ipython",
    "version": 3
   },
   "file_extension": ".py",
   "mimetype": "text/x-python",
   "name": "python",
   "nbconvert_exporter": "python",
   "pygments_lexer": "ipython3",
   "version": "3.9.5"
  }
 },
 "nbformat": 4,
 "nbformat_minor": 5
}
